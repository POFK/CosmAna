{
 "cells": [
  {
   "cell_type": "markdown",
   "metadata": {},
   "source": [
    "## An example of Gaussian smoothing for 3D grids data in Fourier space."
   ]
  },
  {
   "cell_type": "markdown",
   "metadata": {},
   "source": [
    "### import python library\n",
    "There is a bug so you must import Utils (something related to the Fourier transform) first!"
   ]
  },
  {
   "cell_type": "code",
   "execution_count": 1,
   "metadata": {},
   "outputs": [],
   "source": [
    "from CosmAna import Utils # must import this line first\n",
    "from mpi4py import MPI\n",
    "import numpy as np\n",
    "from CosmAna import MPI_IO "
   ]
  },
  {
   "cell_type": "code",
   "execution_count": 2,
   "metadata": {},
   "outputs": [],
   "source": [
    "import matplotlib.pyplot as plt"
   ]
  },
  {
   "cell_type": "markdown",
   "metadata": {},
   "source": [
    "### Toy data\n",
    "Here, I create a toy data and used it to show how the `CosmAna` work when smoothing density field."
   ]
  },
  {
   "cell_type": "code",
   "execution_count": 3,
   "metadata": {},
   "outputs": [],
   "source": [
    "Ng = 32 # grids number per side\n",
    "L = 300. # boxsize\n",
    "data = np.zeros([Ng, Ng, Ng], dtype=np.float32)\n",
    "pos = np.array([[Ng / 2, Ng / 2, Ng / 2],                   # set 4 particles position\n",
    "                [Ng / 2 + 4, Ng / 2 - 3, Ng / 2 + 1],\n",
    "                [2, 1, 1],                      \n",
    "                [-1, -1, Ng / 2]])\n",
    "for i, j, k in pos:                                         # assign particles into grids\n",
    "    data[i, j, k] += 1"
   ]
  },
  {
   "cell_type": "markdown",
   "metadata": {},
   "source": [
    "show the toy data in three direction"
   ]
  },
  {
   "cell_type": "code",
   "execution_count": 4,
   "metadata": {},
   "outputs": [
    {
     "data": {
      "text/plain": [
       "<matplotlib.image.AxesImage at 0x7f06c5dbaa10>"
      ]
     },
     "execution_count": 4,
     "metadata": {},
     "output_type": "execute_result"
    },
    {
     "data": {
      "image/png": "[encoded data removed]",
      "text/plain": [
       "<Figure size 1296x432 with 3 Axes>"
      ]
     },
     "metadata": {
      "needs_background": "light"
     },
     "output_type": "display_data"
    }
   ],
   "source": [
    "fig, ax = plt.subplots(figsize=[18,6],nrows=1, ncols=3)\n",
    "ax[0].imshow(data.mean(axis=0))\n",
    "ax[1].imshow(data.mean(axis=1))\n",
    "ax[2].imshow(data.mean(axis=2))"
   ]
  },
  {
   "cell_type": "markdown",
   "metadata": {},
   "source": [
    "### MPI IO\n",
    "In `CosmAna`, there is a library named `MPI_IO`, which can be used to read or write binary data (C order) in parallel. The follow is an example to save and read the toy data."
   ]
  },
  {
   "cell_type": "markdown",
   "metadata": {},
   "source": [
    "- first, create a instance of the `Utils` class and don't care its output"
   ]
  },
  {
   "cell_type": "code",
   "execution_count": 5,
   "metadata": {},
   "outputs": [
    {
     "name": "stdout",
     "output_type": "stream",
     "text": [
      "================================================================================\n",
      "parameters:\n",
      "N: 32, L: 300.000000\n",
      "================================================================================\n"
     ]
    }
   ],
   "source": [
    "utils = Utils(L=L, Ng=Ng)"
   ]
  },
  {
   "cell_type": "markdown",
   "metadata": {},
   "source": [
    "- Then, create a instance of the `MPI_IO`"
   ]
  },
  {
   "cell_type": "code",
   "execution_count": 6,
   "metadata": {},
   "outputs": [],
   "source": [
    "mpi_io = MPI_IO(comm=utils.comm, MPI=utils.MPI)"
   ]
  },
  {
   "cell_type": "markdown",
   "metadata": {},
   "source": [
    "- set file path"
   ]
  },
  {
   "cell_type": "code",
   "execution_count": 7,
   "metadata": {},
   "outputs": [],
   "source": [
    "path = '/tmp/test.bin'"
   ]
  },
  {
   "cell_type": "markdown",
   "metadata": {},
   "source": [
    "- Write data. The 3D field will be saved like `[(x0,y0,z0),(x0,y0,z1),(x0,y0,z2)...]`\n",
    "or in C code:\n",
    "```\n",
    "for i in axis0:\n",
    "    for j in axis1:\n",
    "        for k in axis2:\n",
    "            write data[i,j,k]\n",
    "```"
   ]
  },
  {
   "cell_type": "code",
   "execution_count": 8,
   "metadata": {},
   "outputs": [],
   "source": [
    "mpi_io.dataw = data.copy(order='C')\n",
    "mpi_io.MPI_WRITE(path)"
   ]
  },
  {
   "cell_type": "code",
   "execution_count": 9,
   "metadata": {},
   "outputs": [
    {
     "name": "stdout",
     "output_type": "stream",
     "text": [
      "-rw-r--r-- 1 mtx mtx 128K Mar  6 11:31 /tmp/test.bin\n"
     ]
    }
   ],
   "source": [
    "!ls -lth /tmp/test.bin"
   ]
  },
  {
   "cell_type": "markdown",
   "metadata": {},
   "source": [
    "- read it again. To do it, you should create a empty array first to allocate memory. After reading it, the data is saved in `mpi_io.datar` array, and its shape is [Ng*3]. You can reshape it to get original data shape [Ng,Ng,Ng]"
   ]
  },
  {
   "cell_type": "code",
   "execution_count": 10,
   "metadata": {},
   "outputs": [],
   "source": [
    "mpi_io.datar = np.empty(shape=[Ng * Ng * Ng / utils.size], dtype=np.float32)\n",
    "mpi_io.MPI_READ(path=path)"
   ]
  },
  {
   "cell_type": "markdown",
   "metadata": {},
   "source": [
    "- check it"
   ]
  },
  {
   "cell_type": "code",
   "execution_count": 11,
   "metadata": {},
   "outputs": [
    {
     "name": "stdout",
     "output_type": "stream",
     "text": [
      "True\n"
     ]
    }
   ],
   "source": [
    "data2 = mpi_io.datar.reshape([Ng,Ng,Ng])\n",
    "print np.allclose(data, data2)"
   ]
  },
  {
   "cell_type": "markdown",
   "metadata": {},
   "source": [
    "### Gaussian Smoothing"
   ]
  },
  {
   "cell_type": "code",
   "execution_count": 12,
   "metadata": {},
   "outputs": [],
   "source": [
    "sigma = 15."
   ]
  },
  {
   "cell_type": "markdown",
   "metadata": {},
   "source": [
    "If you readdata by `MPI_IO`, you can use it directly. Otherwise, you should split the 3D array by the number of processes in the first axis, like:\n",
    "```\n",
    "data_mpi = np.array_split(data1, utils.comm.size)[utils.comm.rank]\n",
    "```"
   ]
  },
  {
   "cell_type": "code",
   "execution_count": 13,
   "metadata": {},
   "outputs": [],
   "source": [
    "datas = utils.Smooth(data, sigma)"
   ]
  },
  {
   "cell_type": "markdown",
   "metadata": {},
   "source": [
    "`datas` is the smoothed field"
   ]
  },
  {
   "cell_type": "code",
   "execution_count": 14,
   "metadata": {},
   "outputs": [
    {
     "data": {
      "text/plain": [
       "<matplotlib.image.AxesImage at 0x7f06c5ac1490>"
      ]
     },
     "execution_count": 14,
     "metadata": {},
     "output_type": "execute_result"
    },
    {
     "data": {
      "image/png": "[encoded data removed]",
      "text/plain": [
       "<Figure size 432x288 with 1 Axes>"
      ]
     },
     "metadata": {
      "needs_background": "light"
     },
     "output_type": "display_data"
    }
   ],
   "source": [
    "plt.imshow(datas.mean(axis=0))"
   ]
  },
  {
   "cell_type": "markdown",
   "metadata": {},
   "source": [
    "### check the result by Gaussian smoothing in real space"
   ]
  },
  {
   "cell_type": "code",
   "execution_count": 15,
   "metadata": {},
   "outputs": [],
   "source": [
    "def GaussInRealSpace(x, pos, sigma):\n",
    "    H = utils.H\n",
    "    Ng = utils.Ng\n",
    "    zeros = np.zeros([Ng, Ng, Ng], dtype=np.float32)\n",
    "    x = np.arange(Ng, dtype=np.float32)[:, None, None] + zeros\n",
    "    y = np.arange(Ng, dtype=np.float32)[None, :, None] + zeros\n",
    "    z = np.arange(Ng, dtype=np.float32)[None, None, :] + zeros\n",
    "    for i, j, k in pos:\n",
    "        dx = x - i\n",
    "        dy = y - j\n",
    "        dz = z - k\n",
    "        dx[dx > Ng / 2] -= Ng\n",
    "        dx[dx < -Ng / 2] += Ng\n",
    "        dy[dy > Ng / 2] -= Ng\n",
    "        dy[dy < -Ng / 2] += Ng\n",
    "        dz[dz > Ng / 2] -= Ng\n",
    "        dz[dz < -Ng / 2] += Ng\n",
    "        dis = dx**2. + dy**2. + dz**2.\n",
    "        w = 1. / np.sqrt(2. * np.pi * sigma**2.) * \\\n",
    "            np.exp(-0.5 * dis * H**2. / (sigma**2.))\n",
    "        w /= w.sum()\n",
    "        zeros += w\n",
    "    return zeros"
   ]
  },
  {
   "cell_type": "code",
   "execution_count": 16,
   "metadata": {},
   "outputs": [],
   "source": [
    "data_real = GaussInRealSpace(data, pos, sigma)"
   ]
  },
  {
   "cell_type": "code",
   "execution_count": 17,
   "metadata": {},
   "outputs": [
    {
     "data": {
      "text/plain": [
       "<matplotlib.image.AxesImage at 0x7f06c5233510>"
      ]
     },
     "execution_count": 17,
     "metadata": {},
     "output_type": "execute_result"
    },
    {
     "data": {
      "image/png": "[encoded data removed]",
      "text/plain": [
       "<Figure size 1296x432 with 3 Axes>"
      ]
     },
     "metadata": {
      "needs_background": "light"
     },
     "output_type": "display_data"
    }
   ],
   "source": [
    "fig, ax = plt.subplots(figsize=[18,6],nrows=1, ncols=3)\n",
    "ax[0].imshow(data.mean(axis=0))\n",
    "ax[1].imshow(datas.mean(axis=0))\n",
    "ax[2].imshow(data_real.mean(axis=0))"
   ]
  },
  {
   "cell_type": "code",
   "execution_count": 18,
   "metadata": {},
   "outputs": [
    {
     "name": "stdout",
     "output_type": "stream",
     "text": [
      "True\n"
     ]
    }
   ],
   "source": [
    "print np.allclose(datas,data_real)"
   ]
  },
  {
   "cell_type": "markdown",
   "metadata": {},
   "source": [
    "## MPI run"
   ]
  },
  {
   "cell_type": "markdown",
   "metadata": {},
   "source": [
    "The above is an example for smoothing density in one process. The MPI script version is [this one](https://github.com/POFK/CosmAna/blob/master/CosmAna/exam/exam_smooth.py)\n",
    "You can run this file by \n",
    "```\n",
    "mpirun -np 4 python exam_smooth.py\n",
    "```"
   ]
  }
 ],
 "metadata": {
  "kernelspec": {
   "display_name": "Python 2",
   "language": "python",
   "name": "python2"
  },
  "language_info": {
   "codemirror_mode": {
    "name": "ipython",
    "version": 2
   },
   "file_extension": ".py",
   "mimetype": "text/x-python",
   "name": "python",
   "nbconvert_exporter": "python",
   "pygments_lexer": "ipython2",
   "version": "2.7.15"
  }
 },
 "nbformat": 4,
 "nbformat_minor": 2
}
