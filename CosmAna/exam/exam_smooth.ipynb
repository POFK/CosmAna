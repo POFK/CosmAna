{
 "cells": [
  {
   "cell_type": "markdown",
   "metadata": {},
   "source": [
    "## An example of Gaussian smoothing for 3D grids data in Fourier space."
   ]
  },
  {
   "cell_type": "markdown",
   "metadata": {},
   "source": [
    "### import python library\n",
    "There is a bug so you must import Utils (something related to the Fourier transform) first!"
   ]
  },
  {
   "cell_type": "code",
   "execution_count": 1,
   "metadata": {
    "ExecuteTime": {
     "end_time": "2020-04-01T09:52:37.843650Z",
     "start_time": "2020-04-01T09:52:37.021874Z"
    }
   },
   "outputs": [],
   "source": [
    "from CosmAna import Main\n",
    "import numpy as np\n",
    "import matplotlib.pyplot as plt"
   ]
  },
  {
   "cell_type": "markdown",
   "metadata": {},
   "source": [
    "### Toy data\n",
    "Here, I create a toy data and used it to show how the `CosmAna` work when smoothing density field."
   ]
  },
  {
   "cell_type": "code",
   "execution_count": 2,
   "metadata": {
    "ExecuteTime": {
     "end_time": "2020-04-01T09:52:37.893961Z",
     "start_time": "2020-04-01T09:52:37.846893Z"
    }
   },
   "outputs": [],
   "source": [
    "Ng = 32 # grids number per side\n",
    "L = 300. # boxsize\n",
    "data = np.zeros([Ng, Ng, Ng], dtype=np.float32)\n",
    "pos = np.array([[Ng // 2, Ng // 2, Ng // 2],                   # set 4 particles position\n",
    "                [Ng // 2 + 4, Ng // 2 - 3, Ng // 2 + 1],\n",
    "                [2, 1, 1],                      \n",
    "                [-1, -1, Ng // 2]])\n",
    "for i, j, k in pos:                                         # assign particles into grids\n",
    "    data[i, j, k] += 1"
   ]
  },
  {
   "cell_type": "markdown",
   "metadata": {},
   "source": [
    "show the toy data in three direction"
   ]
  },
  {
   "cell_type": "code",
   "execution_count": 3,
   "metadata": {
    "ExecuteTime": {
     "end_time": "2020-04-01T09:52:38.510763Z",
     "start_time": "2020-04-01T09:52:37.897083Z"
    }
   },
   "outputs": [
    {
     "data": {
      "text/plain": [
       "<matplotlib.image.AxesImage at 0x2ac5488e1d10>"
      ]
     },
     "execution_count": 3,
     "metadata": {},
     "output_type": "execute_result"
    },
    {
     "data": {
      "image/png": "[encoded data removed]",
      "text/plain": [
       "<Figure size 1296x432 with 3 Axes>"
      ]
     },
     "metadata": {
      "needs_background": "light"
     },
     "output_type": "display_data"
    }
   ],
   "source": [
    "fig, ax = plt.subplots(figsize=[18,6],nrows=1, ncols=3)\n",
    "ax[0].imshow(data.mean(axis=0))\n",
    "ax[1].imshow(data.mean(axis=1))\n",
    "ax[2].imshow(data.mean(axis=2))"
   ]
  },
  {
   "cell_type": "markdown",
   "metadata": {},
   "source": [
    "### MPI IO\n",
    "In `CosmAna`, there is a library named `MPI_IO`, which can be used to read or write binary data (C order) in parallel. The follow is an example to save and read the toy data."
   ]
  },
  {
   "cell_type": "markdown",
   "metadata": {},
   "source": [
    "- first, create a instance of the `Main` class"
   ]
  },
  {
   "cell_type": "code",
   "execution_count": 4,
   "metadata": {
    "ExecuteTime": {
     "end_time": "2020-04-01T09:52:38.522891Z",
     "start_time": "2020-04-01T09:52:38.514710Z"
    }
   },
   "outputs": [
    {
     "name": "stdout",
     "output_type": "stream",
     "text": [
      "================================================================================\n",
      "parameters:\n",
      "N: 32, L: 300.000000\n",
      "================================================================================\n",
      "data format: f4\n",
      "fft precision: float!\n"
     ]
    }
   ],
   "source": [
    "CA = Main(L=L, Ng=Ng)"
   ]
  },
  {
   "cell_type": "markdown",
   "metadata": {},
   "source": [
    "- set file path"
   ]
  },
  {
   "cell_type": "code",
   "execution_count": 5,
   "metadata": {
    "ExecuteTime": {
     "end_time": "2020-04-01T09:52:38.528128Z",
     "start_time": "2020-04-01T09:52:38.525187Z"
    }
   },
   "outputs": [],
   "source": [
    "path = '/tmp/test.bin'"
   ]
  },
  {
   "cell_type": "markdown",
   "metadata": {},
   "source": [
    "- Write data. The 3D field will be saved like `[(x0,y0,z0),(x0,y0,z1),(x0,y0,z2)...]`\n",
    "or in C code:\n",
    "```\n",
    "for i in axis0:\n",
    "    for j in axis1:\n",
    "        for k in axis2:\n",
    "            write data[i,j,k]\n",
    "```"
   ]
  },
  {
   "cell_type": "code",
   "execution_count": 6,
   "metadata": {
    "ExecuteTime": {
     "end_time": "2020-04-01T09:52:38.534770Z",
     "start_time": "2020-04-01T09:52:38.530367Z"
    }
   },
   "outputs": [],
   "source": [
    "CA.tofile(data, path=path)"
   ]
  },
  {
   "cell_type": "code",
   "execution_count": 7,
   "metadata": {
    "ExecuteTime": {
     "end_time": "2020-04-01T09:52:38.673994Z",
     "start_time": "2020-04-01T09:52:38.537242Z"
    }
   },
   "outputs": [
    {
     "name": "stdout",
     "output_type": "stream",
     "text": [
      "-rw-r--r-- 1 maotx users 128K Apr  1 17:52 /tmp/test.bin\r\n"
     ]
    }
   ],
   "source": [
    "!ls -lth /tmp/test.bin"
   ]
  },
  {
   "cell_type": "markdown",
   "metadata": {},
   "source": [
    "- read it again. To do it, you should create a empty array first to allocate memory. After reading it, the data is saved in `mpi_io.datar` array, and its shape is [Ng*3]. You can reshape it to get original data shape [Ng,Ng,Ng]"
   ]
  },
  {
   "cell_type": "code",
   "execution_count": 8,
   "metadata": {
    "ExecuteTime": {
     "end_time": "2020-04-01T09:52:38.685469Z",
     "start_time": "2020-04-01T09:52:38.679432Z"
    },
    "scrolled": false
   },
   "outputs": [],
   "source": [
    "data2 = CA.fromfile(path=path, shape=[CA.Ng, CA.Ng, CA.Ng], dtype=np.float32)"
   ]
  },
  {
   "cell_type": "markdown",
   "metadata": {},
   "source": [
    "- check it"
   ]
  },
  {
   "cell_type": "code",
   "execution_count": 9,
   "metadata": {
    "ExecuteTime": {
     "end_time": "2020-04-01T09:52:38.696157Z",
     "start_time": "2020-04-01T09:52:38.688945Z"
    }
   },
   "outputs": [
    {
     "name": "stdout",
     "output_type": "stream",
     "text": [
      "True\n"
     ]
    }
   ],
   "source": [
    "data2 = data2.reshape(Ng,Ng,Ng)\n",
    "print(np.allclose(data, data2))"
   ]
  },
  {
   "cell_type": "markdown",
   "metadata": {},
   "source": [
    "### Gaussian Smoothing"
   ]
  },
  {
   "cell_type": "code",
   "execution_count": 10,
   "metadata": {
    "ExecuteTime": {
     "end_time": "2020-04-01T09:52:38.702957Z",
     "start_time": "2020-04-01T09:52:38.699153Z"
    }
   },
   "outputs": [],
   "source": [
    "sigma = 15."
   ]
  },
  {
   "cell_type": "markdown",
   "metadata": {},
   "source": [
    "If you readdata by `MPI_IO`, you can use it directly. Otherwise, you should split the 3D array by the number of processes in the first axis, like:\n",
    "```\n",
    "data_mpi = np.array_split(data1, utils.comm.size)[utils.comm.rank]\n",
    "```"
   ]
  },
  {
   "cell_type": "code",
   "execution_count": 11,
   "metadata": {
    "ExecuteTime": {
     "end_time": "2020-04-01T09:52:38.716506Z",
     "start_time": "2020-04-01T09:52:38.705951Z"
    }
   },
   "outputs": [
    {
     "name": "stdout",
     "output_type": "stream",
     "text": [
      "Warning: data dtype is float32 but expect <class 'numpy.complex64'>\n"
     ]
    }
   ],
   "source": [
    "datas = CA.Smooth(data, sigma)"
   ]
  },
  {
   "cell_type": "markdown",
   "metadata": {},
   "source": [
    "`datas` is the smoothed field"
   ]
  },
  {
   "cell_type": "code",
   "execution_count": 12,
   "metadata": {
    "ExecuteTime": {
     "end_time": "2020-04-01T09:52:38.921275Z",
     "start_time": "2020-04-01T09:52:38.718881Z"
    }
   },
   "outputs": [
    {
     "data": {
      "text/plain": [
       "<matplotlib.image.AxesImage at 0x2ac548c1d350>"
      ]
     },
     "execution_count": 12,
     "metadata": {},
     "output_type": "execute_result"
    },
    {
     "data": {
      "image/png": "[encoded data removed]",
      "text/plain": [
       "<Figure size 432x288 with 1 Axes>"
      ]
     },
     "metadata": {
      "needs_background": "light"
     },
     "output_type": "display_data"
    }
   ],
   "source": [
    "plt.imshow(datas.mean(axis=0))"
   ]
  },
  {
   "cell_type": "markdown",
   "metadata": {},
   "source": [
    "### check the result by Gaussian smoothing in real space"
   ]
  },
  {
   "cell_type": "code",
   "execution_count": 13,
   "metadata": {
    "ExecuteTime": {
     "end_time": "2020-04-01T09:52:38.933410Z",
     "start_time": "2020-04-01T09:52:38.923053Z"
    }
   },
   "outputs": [],
   "source": [
    "def GaussInRealSpace(x, pos, sigma):\n",
    "    H = CA.H\n",
    "    Ng = CA.Ng\n",
    "    zeros = np.zeros([Ng, Ng, Ng], dtype=np.float32)\n",
    "    x = np.arange(Ng, dtype=np.float32)[:, None, None] + zeros\n",
    "    y = np.arange(Ng, dtype=np.float32)[None, :, None] + zeros\n",
    "    z = np.arange(Ng, dtype=np.float32)[None, None, :] + zeros\n",
    "    for i, j, k in pos:\n",
    "        dx = x - i\n",
    "        dy = y - j\n",
    "        dz = z - k\n",
    "        dx[dx > Ng / 2] -= Ng\n",
    "        dx[dx < -Ng / 2] += Ng\n",
    "        dy[dy > Ng / 2] -= Ng\n",
    "        dy[dy < -Ng / 2] += Ng\n",
    "        dz[dz > Ng / 2] -= Ng\n",
    "        dz[dz < -Ng / 2] += Ng\n",
    "        dis = dx**2. + dy**2. + dz**2.\n",
    "        w = 1. / np.sqrt(2. * np.pi * sigma**2.) * \\\n",
    "            np.exp(-0.5 * dis * H**2. / (sigma**2.))\n",
    "        w /= w.sum()\n",
    "        zeros += w\n",
    "    return zeros"
   ]
  },
  {
   "cell_type": "code",
   "execution_count": 14,
   "metadata": {
    "ExecuteTime": {
     "end_time": "2020-04-01T09:52:38.942517Z",
     "start_time": "2020-04-01T09:52:38.935390Z"
    }
   },
   "outputs": [],
   "source": [
    "data_real = GaussInRealSpace(data, pos, sigma)"
   ]
  },
  {
   "cell_type": "code",
   "execution_count": 15,
   "metadata": {
    "ExecuteTime": {
     "end_time": "2020-04-01T09:52:39.494544Z",
     "start_time": "2020-04-01T09:52:38.944370Z"
    }
   },
   "outputs": [
    {
     "data": {
      "text/plain": [
       "<matplotlib.image.AxesImage at 0x2ac42ed10f50>"
      ]
     },
     "execution_count": 15,
     "metadata": {},
     "output_type": "execute_result"
    },
    {
     "data": {
      "image/png": "[encoded data removed]",
      "text/plain": [
       "<Figure size 1296x432 with 3 Axes>"
      ]
     },
     "metadata": {
      "needs_background": "light"
     },
     "output_type": "display_data"
    }
   ],
   "source": [
    "fig, ax = plt.subplots(figsize=[18,6],nrows=1, ncols=3)\n",
    "ax[0].imshow(data.mean(axis=0))\n",
    "ax[1].imshow(datas.mean(axis=0))\n",
    "ax[2].imshow(data_real.mean(axis=0))"
   ]
  },
  {
   "cell_type": "code",
   "execution_count": 16,
   "metadata": {
    "ExecuteTime": {
     "end_time": "2020-04-01T09:52:39.500639Z",
     "start_time": "2020-04-01T09:52:39.496467Z"
    }
   },
   "outputs": [
    {
     "name": "stdout",
     "output_type": "stream",
     "text": [
      "True\n"
     ]
    }
   ],
   "source": [
    "print(np.allclose(datas,data_real))"
   ]
  },
  {
   "cell_type": "markdown",
   "metadata": {},
   "source": [
    "## MPI run"
   ]
  },
  {
   "cell_type": "markdown",
   "metadata": {},
   "source": [
    "The above is an example for smoothing density in one process. The MPI script version is [this one](https://github.com/POFK/CosmAna/blob/master/CosmAna/exam/exam_smooth.py)\n",
    "You can run this file by \n",
    "```\n",
    "mpirun -np 4 python exam_smooth.py\n",
    "```"
   ]
  },
  {
   "cell_type": "code",
   "execution_count": 17,
   "metadata": {
    "ExecuteTime": {
     "end_time": "2020-04-01T09:52:39.537630Z",
     "start_time": "2020-04-01T09:52:39.502479Z"
    }
   },
   "outputs": [
    {
     "name": "stdout",
     "output_type": "stream",
     "text": [
      "[0, 1, 2, 3]\n"
     ]
    }
   ],
   "source": [
    "from ipyparallel import Client\n",
    "clients = Client(profile='mpi')\n",
    "clients.block = True  # use synchronous computations\\n\",\n",
    "print(clients.ids)"
   ]
  },
  {
   "cell_type": "code",
   "execution_count": 18,
   "metadata": {
    "ExecuteTime": {
     "end_time": "2020-04-01T09:52:39.576315Z",
     "start_time": "2020-04-01T09:52:39.539719Z"
    }
   },
   "outputs": [
    {
     "name": "stdout",
     "output_type": "stream",
     "text": [
      "[stdout:0] Populating the interactive namespace from numpy and matplotlib\n",
      "[stdout:1] Populating the interactive namespace from numpy and matplotlib\n",
      "[stdout:2] Populating the interactive namespace from numpy and matplotlib\n",
      "[stdout:3] Populating the interactive namespace from numpy and matplotlib\n"
     ]
    }
   ],
   "source": [
    "%px %pylab inline "
   ]
  },
  {
   "cell_type": "code",
   "execution_count": 12,
   "metadata": {
    "ExecuteTime": {
     "end_time": "2020-04-01T09:42:51.746019Z",
     "start_time": "2020-04-01T09:42:51.392221Z"
    },
    "deletable": false,
    "editable": false,
    "run_control": {
     "frozen": true
    }
   },
   "outputs": [
    {
     "name": "stdout",
     "output_type": "stream",
     "text": [
      "importing Main from CosmAna on engine(s)\n"
     ]
    }
   ],
   "source": [
    "with clients[:].sync_imports():\n",
    "    from CosmAna import Main # must import this line first"
   ]
  },
  {
   "cell_type": "code",
   "execution_count": 19,
   "metadata": {
    "ExecuteTime": {
     "end_time": "2020-04-01T09:52:39.606119Z",
     "start_time": "2020-04-01T09:52:39.578679Z"
    }
   },
   "outputs": [],
   "source": [
    "%%px\n",
    "from CosmAna import Main\n",
    "import numpy as np\n",
    "Ng = 32 # grids number per side\n",
    "L = 300. # boxsize\n",
    "sigma = 15."
   ]
  },
  {
   "cell_type": "code",
   "execution_count": 20,
   "metadata": {
    "ExecuteTime": {
     "end_time": "2020-04-01T09:52:39.830722Z",
     "start_time": "2020-04-01T09:52:39.608743Z"
    },
    "scrolled": false
   },
   "outputs": [
    {
     "name": "stdout",
     "output_type": "stream",
     "text": [
      "[stdout:0] \n",
      "================================================================================\n",
      "parameters:\n",
      "N: 32, L: 300.000000\n",
      "================================================================================\n",
      "data format: f4\n",
      "fft precision: float!\n"
     ]
    },
    {
     "data": {
      "text/plain": [
       "[output:0]"
      ]
     },
     "metadata": {},
     "output_type": "display_data"
    },
    {
     "data": {
      "image/png": "[encoded data removed]",
      "text/plain": [
       "<Figure size 432x288 with 1 Axes>"
      ]
     },
     "metadata": {
      "engine": 0,
      "needs_background": "light"
     },
     "output_type": "display_data"
    }
   ],
   "source": [
    "%%px\n",
    "\"\"\"\n",
    "float:\n",
    "\"\"\"\n",
    "CA = Main(L=L, Ng=Ng, format='f4') # if float, format='f4'; else if double, format='f8'\n",
    "#==================== read data =============================\n",
    "path = '/tmp/test.bin'\n",
    "data = CA.fromfile(path=path, shape=[Ng, Ng, Ng], dtype=np.float32)\n",
    "data = data.reshape([Ng//CA.size,Ng,Ng])\n",
    "#==================== smoothing =============================\n",
    "datas = CA.Smooth(data.astype(np.complex64), sigma)\n",
    "#==================== save data =============================\n",
    "CA.tofile(datas, path='/tmp/test_fs.bin')\n",
    "#====================== check ===============================\n",
    "if CA.rank == 0:\n",
    "    import matplotlib.pyplot as plt\n",
    "    s = np.fromfile('/tmp/test_fs.bin', dtype=np.float32)\n",
    "    s = s.reshape(Ng,Ng,Ng)\n",
    "    plt.imshow(s.mean(axis=0))\n",
    "    plt.show()"
   ]
  },
  {
   "cell_type": "code",
   "execution_count": 21,
   "metadata": {
    "ExecuteTime": {
     "end_time": "2020-04-01T09:52:39.839932Z",
     "start_time": "2020-04-01T09:52:39.833268Z"
    }
   },
   "outputs": [],
   "source": [
    "path = '/tmp/test.bin'\n",
    "data = np.fromfile(path, dtype=np.float32)\n",
    "data = data.astype(np.float64)\n",
    "data.tofile(\"/tmp/test_double.bin\", format='f8')"
   ]
  },
  {
   "cell_type": "code",
   "execution_count": 22,
   "metadata": {
    "ExecuteTime": {
     "end_time": "2020-04-01T09:52:40.071743Z",
     "start_time": "2020-04-01T09:52:39.842533Z"
    }
   },
   "outputs": [
    {
     "name": "stdout",
     "output_type": "stream",
     "text": [
      "[stdout:0] \n",
      "================================================================================\n",
      "parameters:\n",
      "N: 32, L: 300.000000\n",
      "================================================================================\n",
      "data format: f8\n",
      "fft precision: double!\n"
     ]
    },
    {
     "data": {
      "text/plain": [
       "[output:0]"
      ]
     },
     "metadata": {},
     "output_type": "display_data"
    },
    {
     "data": {
      "image/png": "[encoded data removed]",
      "text/plain": [
       "<Figure size 432x288 with 1 Axes>"
      ]
     },
     "metadata": {
      "engine": 0,
      "needs_background": "light"
     },
     "output_type": "display_data"
    }
   ],
   "source": [
    "%%px\n",
    "\"\"\"\n",
    "double:\n",
    "\"\"\"\n",
    "CA = Main(L=L, Ng=Ng, format='f8') # if float, format='f4'; else if double, format='f8'\n",
    "#==================== read data =============================\n",
    "path = '/tmp/test_double.bin'\n",
    "\n",
    "data = CA.fromfile(path=path, shape=[Ng, Ng, Ng], dtype=np.float64)\n",
    "data = data.reshape([Ng//CA.size,Ng,Ng])\n",
    "#==================== smoothing =============================\n",
    "datas = CA.Smooth(data.astype(np.complex128), sigma)\n",
    "#==================== save data =============================\n",
    "CA.tofile(datas, path='/tmp/test_ds.bin')\n",
    "#====================== check ===============================\n",
    "if CA.rank == 0:\n",
    "    import matplotlib.pyplot as plt\n",
    "    s = np.fromfile('/tmp/test_ds.bin', dtype=np.float64)\n",
    "    s = s.reshape(Ng,Ng,Ng)\n",
    "    plt.imshow(s.mean(axis=0))\n",
    "    plt.show()"
   ]
  },
  {
   "cell_type": "code",
   "execution_count": null,
   "metadata": {},
   "outputs": [],
   "source": []
  }
 ],
 "metadata": {
  "kernelspec": {
   "display_name": "Python 3",
   "language": "python",
   "name": "python3"
  },
  "language_info": {
   "codemirror_mode": {
    "name": "ipython",
    "version": 3
   },
   "file_extension": ".py",
   "mimetype": "text/x-python",
   "name": "python",
   "nbconvert_exporter": "python",
   "pygments_lexer": "ipython3",
   "version": "3.7.6"
  },
  "latex_envs": {
   "LaTeX_envs_menu_present": true,
   "autoclose": false,
   "autocomplete": true,
   "bibliofile": "biblio.bib",
   "cite_by": "apalike",
   "current_citInitial": 1,
   "eqLabelWithNumbers": true,
   "eqNumInitial": 1,
   "hotkeys": {
    "equation": "Ctrl-E",
    "itemize": "Ctrl-I"
   },
   "labels_anchors": false,
   "latex_user_defs": false,
   "report_style_numbering": false,
   "user_envs_cfg": false
  },
  "toc": {
   "base_numbering": 1,
   "nav_menu": {},
   "number_sections": true,
   "sideBar": true,
   "skip_h1_title": false,
   "title_cell": "Table of Contents",
   "title_sidebar": "Contents",
   "toc_cell": false,
   "toc_position": {},
   "toc_section_display": true,
   "toc_window_display": false
  }
 },
 "nbformat": 4,
 "nbformat_minor": 2
}
